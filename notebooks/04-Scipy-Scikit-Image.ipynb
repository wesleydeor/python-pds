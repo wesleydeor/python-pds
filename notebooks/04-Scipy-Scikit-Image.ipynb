{
 "cells": [
  {
   "cell_type": "markdown",
   "metadata": {
    "slideshow": {
     "slide_type": "slide"
    }
   },
   "source": [
    "# Scipy"
   ]
  },
  {
   "cell_type": "markdown",
   "metadata": {
    "collapsed": true
   },
   "source": [
    "O pacote [SciPy](http://www.scipy.org/) contém várias toolboxes dedicadas a questões comuns em computação científica. Seus diferentes sub-módulos correspondem a diferentes aplicações, como a interpolação, integração, otimização, processamento de imagens, estatísticas, etc.\n",
    "\n",
    "SciPy pode ser comparado com outras bibliotecas científicas de computação padrão, como o GSL (Biblioteca GNU Scientific para C e C ++), ou toolboxes do Matlab. SciPy é o pacote base para rotinas científicas em Python. Ele foi desenvolvido para funcionar de forma eficiente em arrays numpy.\n"
   ]
  },
  {
   "cell_type": "code",
   "execution_count": null,
   "metadata": {
    "collapsed": true,
    "slideshow": {
     "slide_type": "skip"
    }
   },
   "outputs": [],
   "source": [
    "%reset -f"
   ]
  },
  {
   "cell_type": "code",
   "execution_count": null,
   "metadata": {
    "collapsed": true,
    "slideshow": {
     "slide_type": "skip"
    }
   },
   "outputs": [],
   "source": [
    "%matplotlib inline"
   ]
  },
  {
   "cell_type": "code",
   "execution_count": null,
   "metadata": {
    "collapsed": false
   },
   "outputs": [],
   "source": [
    "import numpy as np\n",
    "import matplotlib.pyplot as plt"
   ]
  },
  {
   "cell_type": "code",
   "execution_count": null,
   "metadata": {
    "collapsed": true
   },
   "outputs": [],
   "source": [
    "from scipy.io import wavfile"
   ]
  },
  {
   "cell_type": "code",
   "execution_count": null,
   "metadata": {
    "collapsed": false
   },
   "outputs": [],
   "source": [
    "from scipy import signal, fftpack"
   ]
  },
  {
   "cell_type": "code",
   "execution_count": null,
   "metadata": {
    "collapsed": true
   },
   "outputs": [],
   "source": [
    "import IPython"
   ]
  },
  {
   "cell_type": "markdown",
   "metadata": {
    "slideshow": {
     "slide_type": "slide"
    }
   },
   "source": [
    "## Uma simples senoide"
   ]
  },
  {
   "cell_type": "code",
   "execution_count": null,
   "metadata": {
    "collapsed": false
   },
   "outputs": [],
   "source": [
    "freq = 5 #hz \n",
    "sample_rate = 50 # amostras por segundo\n",
    "total_sample_time = 3 # segundos\n",
    "N = sample_rate * total_sample_time # número de amostras\n",
    "\n",
    "t = np.linspace(0, total_sample_time, N)\n",
    "sig = 2 * np.sin(2*np.pi * freq * t)\n",
    "\n",
    "plt.figure(figsize=(14,7))\n",
    "plt.plot(t, sig)\n",
    "\n",
    "plt.title('Time Domain')\n",
    "plt.xlabel('Time[s]')\n",
    "plt.ylabel('Amplitude')\n",
    "plt.show()"
   ]
  },
  {
   "cell_type": "markdown",
   "metadata": {
    "slideshow": {
     "slide_type": "slide"
    }
   },
   "source": [
    "## Aplicando FFT\n",
    "$$y[k] = \\sum_{n=0}^{N-1} e^{-2 \\pi j \\frac{k n}{N} } x[n]$$  \n"
   ]
  },
  {
   "cell_type": "code",
   "execution_count": null,
   "metadata": {
    "collapsed": false,
    "scrolled": false
   },
   "outputs": [],
   "source": [
    "fft_output = fftpack.fft(sig)\n",
    "\n",
    "magnitude = np.abs(fft_output)/fft_output.size\n",
    "frequencies = fftpack.fftfreq(fft_output.size, d=1./sample_rate)\n",
    "\n",
    "plt.figure(figsize=(14,7))\n",
    "plt.plot(frequencies, magnitude)\n",
    "plt.title('Frequency Domain')\n",
    "plt.xlabel('Frenquecy[Hz]')\n",
    "plt.ylabel('Magnitude')\n",
    "plt.show()"
   ]
  },
  {
   "cell_type": "code",
   "execution_count": null,
   "metadata": {
    "collapsed": false
   },
   "outputs": [],
   "source": [
    "pidxs = np.where(frequencies >= 0)\n",
    "mags = magnitude[pidxs] \n",
    "freqs = frequencies[pidxs]\n",
    "\n",
    "#mags = magnitude[:N//2] \n",
    "#freqs = frequencies[:N//2]\n",
    "\n",
    "plt.figure(figsize=(14,7))\n",
    "plt.plot(freqs, mags)\n",
    "\n",
    "plt.title('Frequency Domain')\n",
    "plt.xlabel('Frenquecy[Hz]')\n",
    "plt.ylabel('Magnitude')\n",
    "plt.show()"
   ]
  },
  {
   "cell_type": "markdown",
   "metadata": {},
   "source": [
    "## FTT Inversa\n",
    "$$x[n] = \\frac{1}{N} \\sum_{n=0}^{N-1} e^{2 \\pi j \\frac{k n}{N} } y[k]$$"
   ]
  },
  {
   "cell_type": "code",
   "execution_count": null,
   "metadata": {
    "collapsed": false
   },
   "outputs": [],
   "source": [
    "ifft_output = fftpack.ifft(fft_output)\n",
    "\n",
    "plt.figure(figsize=(14,7))\n",
    "plt.plot(t, ifft_output.real)\n",
    "\n",
    "plt.title('Time Domain')\n",
    "plt.xlabel('Time[s]')\n",
    "plt.ylabel('Amplitude')\n",
    "plt.show()"
   ]
  },
  {
   "cell_type": "code",
   "execution_count": null,
   "metadata": {
    "collapsed": false,
    "scrolled": true
   },
   "outputs": [],
   "source": [
    "IPython.display.Audio(\"audio_files/cello-bass.wav\")"
   ]
  },
  {
   "cell_type": "code",
   "execution_count": null,
   "metadata": {
    "collapsed": false,
    "scrolled": false,
    "slideshow": {
     "slide_type": "slide"
    }
   },
   "outputs": [],
   "source": [
    "sample_rate_audio, input_audio = wavfile.read(\"audio_files/cello-bass.wav\")\n",
    "time_array = np.arange(0, len(input_audio)/float(sample_rate_audio), 1./sample_rate_audio)\n",
    "\n",
    "input_audio = input_audio[:,0]\n",
    "\n",
    "plt.figure(figsize=(14,7))\n",
    "plt.plot(time_array[0:5000], input_audio[0:5000])\n",
    "plt.show()"
   ]
  },
  {
   "cell_type": "code",
   "execution_count": null,
   "metadata": {
    "collapsed": false
   },
   "outputs": [],
   "source": [
    "input_audio.shape, time_array.shape"
   ]
  },
  {
   "cell_type": "code",
   "execution_count": null,
   "metadata": {
    "collapsed": false
   },
   "outputs": [],
   "source": [
    "input_audio += (450*np.sin(700*2*np.pi*time_array) + \n",
    "                500*np.cos(750*2*np.pi*time_array)).astype(np.int16)\n",
    "\n",
    "plt.figure(figsize=(14,7))\n",
    "plt.plot(time_array[0:5000], input_audio[0:5000])\n",
    "plt.show()"
   ]
  },
  {
   "cell_type": "code",
   "execution_count": null,
   "metadata": {
    "collapsed": false
   },
   "outputs": [],
   "source": [
    "wavfile.write(\"audio_files/cello-bass-noise.wav\", sample_rate_audio, input_audio)\n",
    "IPython.display.Audio(\"audio_files/cello-bass-noise.wav\")"
   ]
  },
  {
   "cell_type": "code",
   "execution_count": null,
   "metadata": {
    "collapsed": false,
    "slideshow": {
     "slide_type": "slide"
    }
   },
   "outputs": [],
   "source": [
    "fft_out = fftpack.fft(input_audio)\n",
    "\n",
    "fftmag_out = np.abs(fft_out)/fft_out.size\n",
    "fftfreq_out = fftpack.fftfreq(fft_out.size, d=1./sample_rate_audio)\n",
    "\n",
    "pidx = np.where(fftfreq_out >= 0)\n",
    "fftmag = fftmag_out[pidx]\n",
    "fftfreq = fftfreq_out[pidx]\n",
    "\n",
    "plt.figure(figsize=(14,7))\n",
    "plt.plot(fftfreq[:3000], fftmag[:3000])\n",
    "plt.show()\n"
   ]
  },
  {
   "cell_type": "markdown",
   "metadata": {},
   "source": [
    "## Filter"
   ]
  },
  {
   "cell_type": "code",
   "execution_count": null,
   "metadata": {
    "collapsed": false
   },
   "outputs": [],
   "source": [
    "# Filter requirements.\n",
    "order = 5\n",
    "fs = sample_rate_audio       # sample rate, Hz\n",
    "cutoff = 500  # desired cutoff frequency of the filter, Hz\n",
    "\n",
    "# Get the filter coefficients so we can check its frequency response.\n",
    "nyq = 0.5 * fs\n",
    "normal_cutoff = cutoff/float(nyq)\n",
    "b, a = signal.butter(order, normal_cutoff, btype='low', analog=False) \n",
    "\n",
    "# Plot the frequency response.\n",
    "w, h = signal.freqz(b, a)\n",
    "\n",
    "plt.figure(figsize=(14,7))\n",
    "plt.subplot(2, 1, 1)\n",
    "plt.plot(nyq*w/float(np.pi), np.abs(h), 'b')\n",
    "plt.plot(cutoff, 0.5*np.sqrt(2), 'ko')\n",
    "plt.axvline(cutoff, color='k')\n",
    "plt.xlim(0, 1500)\n",
    "plt.title(\"Lowpass Filter Frequency Response\")\n",
    "plt.xlabel('Frequency [Hz]')\n",
    "plt.grid()\n",
    "\n",
    "\n",
    "# Filter the data, and plot both the original and filtered signals.\n",
    "y = signal.filtfilt(b, a, input_audio)\n",
    "\n",
    "plt.subplot(2, 1, 2)\n",
    "plt.plot(time_array, input_audio, 'b-', label='data')\n",
    "plt.plot(time_array, y, 'g-', linewidth=2, label='filtered data')\n",
    "plt.xlabel('Time [sec]')\n",
    "plt.grid()\n",
    "plt.legend()\n",
    "\n",
    "plt.subplots_adjust(hspace=0.35)\n",
    "plt.show()"
   ]
  },
  {
   "cell_type": "code",
   "execution_count": null,
   "metadata": {
    "collapsed": false
   },
   "outputs": [],
   "source": [
    "y = y.astype(np.int16)\n",
    "wavfile.write(\"audio_files/cello-bass-denoised.wav\", sample_rate_audio, y)"
   ]
  },
  {
   "cell_type": "code",
   "execution_count": null,
   "metadata": {
    "collapsed": false
   },
   "outputs": [],
   "source": [
    "IPython.display.Audio(\"audio_files/cello-bass-noise.wav\")"
   ]
  },
  {
   "cell_type": "code",
   "execution_count": null,
   "metadata": {
    "collapsed": false
   },
   "outputs": [],
   "source": [
    "IPython.display.Audio(\"audio_files/cello-bass-denoised.wav\")"
   ]
  },
  {
   "cell_type": "code",
   "execution_count": null,
   "metadata": {
    "collapsed": false
   },
   "outputs": [],
   "source": [
    "sample_rate_audio, input_audio = wavfile.read(\"audio_files/cello-bass-denoised.wav\")\n",
    "\n",
    "fft_out = fftpack.fft(input_audio)\n",
    "\n",
    "fftmag_out = np.abs(fft_out)/float(fft_out.size)\n",
    "fftfreq_out = fftpack.fftfreq(fft_out.size, d=1./sample_rate_audio)\n",
    "\n",
    "pidx = np.where(fftfreq_out >= 0)\n",
    "fftmag = fftmag_out[pidx]\n",
    "fftfreq = fftfreq_out[pidx]\n",
    "\n",
    "plt.figure(figsize=(14,7))\n",
    "plt.plot(fftfreq[:3000], fftmag[:3000])\n",
    "plt.show()"
   ]
  },
  {
   "cell_type": "markdown",
   "metadata": {},
   "source": [
    "# Scikit-image\n",
    "\n",
    "[Scikit-image](http://scikit-image.org/)"
   ]
  },
  {
   "cell_type": "code",
   "execution_count": null,
   "metadata": {
    "collapsed": true
   },
   "outputs": [],
   "source": [
    "# -*- coding: utf-8 -*-\n",
    "\"\"\"\n",
    "SPS - Unicamp - Image processing\n",
    "\n",
    "    An image is a matrix interpreted as pixel intensity. Usually, in a gray\n",
    "level matrix, the intensity of each pixel can go from 0 to 255. This is known\n",
    "as 8-bit image. \n",
    "\"\"\"\n",
    "\n",
    "import numpy as np\n",
    "import matplotlib.pyplot as plt\n",
    "\n",
    "from skimage import data, filters, feature"
   ]
  },
  {
   "cell_type": "markdown",
   "metadata": {},
   "source": [
    "# Primeiro exemplo"
   ]
  },
  {
   "cell_type": "code",
   "execution_count": null,
   "metadata": {
    "collapsed": false
   },
   "outputs": [],
   "source": [
    "### First example\n",
    "a = np.zeros((21,21), dtype = np.uint8)  # unsigned integer 8 bits\n",
    "plt.figure()\n",
    "plt.imshow(a, cmap=plt.cm.gray)"
   ]
  },
  {
   "cell_type": "code",
   "execution_count": null,
   "metadata": {
    "collapsed": false
   },
   "outputs": [],
   "source": [
    "a[:,10] = 128\n",
    "plt.figure()\n",
    "plt.imshow(a, cmap=plt.cm.gray)"
   ]
  },
  {
   "cell_type": "code",
   "execution_count": null,
   "metadata": {
    "collapsed": false
   },
   "outputs": [],
   "source": [
    "a[10,:] = 128\n",
    "plt.figure()\n",
    "plt.imshow(a, cmap=plt.cm.gray)"
   ]
  },
  {
   "cell_type": "code",
   "execution_count": null,
   "metadata": {
    "collapsed": false
   },
   "outputs": [],
   "source": [
    "plt.figure()\n",
    "plt.imshow(a, cmap = plt.cm.gray, interpolation = 'nearest')"
   ]
  },
  {
   "cell_type": "code",
   "execution_count": null,
   "metadata": {
    "collapsed": false
   },
   "outputs": [],
   "source": [
    "a[3:7, 3:7] = 255\n",
    "plt.figure()\n",
    "plt.imshow(a, cmap = plt.cm.gray, interpolation = 'nearest')"
   ]
  },
  {
   "cell_type": "code",
   "execution_count": null,
   "metadata": {
    "collapsed": false
   },
   "outputs": [],
   "source": [
    "# how to verify the number of pixels for each value\n",
    "plt.figure()\n",
    "plt.hist(a.ravel())  # read as a vector with one dimension\n",
    "plt.show()"
   ]
  },
  {
   "cell_type": "code",
   "execution_count": null,
   "metadata": {
    "collapsed": false,
    "scrolled": true
   },
   "outputs": [],
   "source": [
    "plt.figure()\n",
    "plt.hist(a.ravel(), bins = 5)\n",
    "plt.show()"
   ]
  },
  {
   "cell_type": "code",
   "execution_count": null,
   "metadata": {
    "collapsed": false
   },
   "outputs": [],
   "source": [
    "plt.figure()\n",
    "plt.hist(a.ravel(), bins = 255)\n",
    "plt.show()"
   ]
  },
  {
   "cell_type": "code",
   "execution_count": null,
   "metadata": {
    "collapsed": false
   },
   "outputs": [],
   "source": [
    "a_mask = a > 130  # remove white square\n",
    "a[a_mask] = 0\n",
    "plt.figure()\n",
    "plt.imshow(a, cmap = plt.cm.gray, interpolation = 'nearest')\n",
    "plt.show()"
   ]
  },
  {
   "cell_type": "markdown",
   "metadata": {},
   "source": [
    "# Segundo exemplo"
   ]
  },
  {
   "cell_type": "code",
   "execution_count": null,
   "metadata": {
    "collapsed": false,
    "scrolled": false
   },
   "outputs": [],
   "source": [
    "### Real: example 1 -> Thresholding\n",
    "img = data.camera()\n",
    "plt.figure()\n",
    "plt.imshow(img, cmap = plt.cm.gray)\n",
    "plt.show()"
   ]
  },
  {
   "cell_type": "code",
   "execution_count": null,
   "metadata": {
    "collapsed": false
   },
   "outputs": [],
   "source": [
    "# How to separete the guy, or most of the guy and the camera\n",
    "plt.figure()\n",
    "plt.hist(img.ravel())\n",
    "plt.show()"
   ]
  },
  {
   "cell_type": "code",
   "execution_count": null,
   "metadata": {
    "collapsed": false,
    "scrolled": true
   },
   "outputs": [],
   "source": [
    "plt.figure()\n",
    "plt.hist(img.ravel(), bins = 255)\n",
    "plt.show()"
   ]
  },
  {
   "cell_type": "code",
   "execution_count": null,
   "metadata": {
    "collapsed": false
   },
   "outputs": [],
   "source": [
    "# run the two lines together\n",
    "plt.figure(figsize = (15,7))\n",
    "plt.hist(img.ravel(), bins = 255)\n",
    "plt.show()"
   ]
  },
  {
   "cell_type": "code",
   "execution_count": null,
   "metadata": {
    "collapsed": false
   },
   "outputs": [],
   "source": [
    "#chose threshold -> change for some values: 50, 150, 30\n",
    "threshold = 128\n",
    "\n",
    "# run the three lines together\n",
    "plt.figure(figsize = (15,7))\n",
    "plt.hist(img.ravel(), bins = 255)\n",
    "plt.axvline(x = threshold, color = 'red', linewidth = 3)\n",
    "plt.show()"
   ]
  },
  {
   "cell_type": "code",
   "execution_count": null,
   "metadata": {
    "collapsed": false
   },
   "outputs": [],
   "source": [
    "new_img = img.copy() # hard copy\n",
    "plt.figure()\n",
    "plt.imshow(new_img, cmap = plt.cm.gray)\n",
    "plt.show()"
   ]
  },
  {
   "cell_type": "code",
   "execution_count": null,
   "metadata": {
    "collapsed": false
   },
   "outputs": [],
   "source": [
    "guy_mask = new_img > threshold\n",
    "\n",
    "new_img[guy_mask] = 255\n",
    "plt.figure()\n",
    "plt.imshow(new_img, cmap = plt.cm.gray)\n",
    "plt.show()"
   ]
  },
  {
   "cell_type": "code",
   "execution_count": null,
   "metadata": {
    "collapsed": false
   },
   "outputs": [],
   "source": [
    "### automatic threshold: Otsu method\n",
    "thresh = filters.threshold_otsu(img)\n",
    "\n",
    "new_img = img.copy() # hard copy\n",
    "\n",
    "guy_mask_automatic = new_img > thresh\n",
    "\n",
    "plt.figure(figsize = (15,7))\n",
    "plt.hist(img.ravel(), bins = 255)\n",
    "plt.axvline(x = thresh, color = 'red', linewidth = 3)\n",
    "\n",
    "plt.show()"
   ]
  },
  {
   "cell_type": "code",
   "execution_count": null,
   "metadata": {
    "collapsed": false
   },
   "outputs": [],
   "source": [
    "new_img[guy_mask_automatic] = 255\n",
    "plt.figure()\n",
    "plt.imshow(new_img, cmap = plt.cm.gray)\n",
    "plt.show()"
   ]
  },
  {
   "cell_type": "markdown",
   "metadata": {},
   "source": [
    "# Terceiro exemplo"
   ]
  },
  {
   "cell_type": "code",
   "execution_count": null,
   "metadata": {
    "collapsed": false
   },
   "outputs": [],
   "source": [
    "### Real: example 2 -> Edge detector\n",
    "\n",
    "coins = data.coins()\n",
    "plt.figure(figsize = (10,10))\n",
    "plt.imshow(coins, cmap = plt.cm.gray)"
   ]
  },
  {
   "cell_type": "code",
   "execution_count": null,
   "metadata": {
    "collapsed": false
   },
   "outputs": [],
   "source": [
    "### Sobel Method\n",
    "\n",
    "edges_sobel = filters.sobel(coins)\n",
    "plt.figure(figsize = (10,10))\n",
    "plt.title('Sobel method')\n",
    "plt.imshow(edges_sobel, cmap = plt.cm.gray)"
   ]
  },
  {
   "cell_type": "code",
   "execution_count": null,
   "metadata": {
    "collapsed": false
   },
   "outputs": [],
   "source": [
    "### Canny Method\n",
    "\n",
    "edges_canny = feature.canny(coins)\n",
    "plt.figure(figsize = (10,10))\n",
    "plt.title('Canny with sigma = 1.0')\n",
    "plt.imshow(edges_canny, cmap = plt.cm.gray)"
   ]
  },
  {
   "cell_type": "code",
   "execution_count": null,
   "metadata": {
    "collapsed": false,
    "scrolled": false
   },
   "outputs": [],
   "source": [
    "edges_canny_3 = feature.canny(coins, sigma = 3.0)\n",
    "plt.figure(figsize = (10,10))\n",
    "plt.title('Canny with sigma = 3.0')\n",
    "plt.imshow(edges_canny_3, cmap = plt.cm.gray)"
   ]
  }
 ],
 "metadata": {
  "kernelspec": {
   "display_name": "Python 2",
   "language": "python",
   "name": "python2"
  },
  "language_info": {
   "codemirror_mode": {
    "name": "ipython",
    "version": 2
   },
   "file_extension": ".py",
   "mimetype": "text/x-python",
   "name": "python",
   "nbconvert_exporter": "python",
   "pygments_lexer": "ipython2",
   "version": "2.7.10"
  }
 },
 "nbformat": 4,
 "nbformat_minor": 0
}
