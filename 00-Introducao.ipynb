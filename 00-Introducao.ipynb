{
 "cells": [
  {
   "cell_type": "markdown",
   "metadata": {},
   "source": [
    "# Introdução à Python para Processamento de Sinais\n",
    "\n",
    "#### Link para o repositório: https://github.com/wesleydeor\n",
    "\n",
    "## As necessidades dos(as) cientistas\n",
    "\n",
    "- Adiquirir dados (simulação, experimento);\n",
    "- Manipular e processar dados;\n",
    "- Vizualizar resultados (entender o que estamos fazendo!);\n",
    "- Comunicar resultados: produzir figuras para relatórios e puplicações, preparar apresentações;\n",
    "\n",
    "## Requisitos em programação científica\n",
    "\n",
    "- Coleção de métodos já implementados (não queremos reinventar a roda!).\n",
    "- Fácil de aprender (a maioria de nós não tem formação em ciência da computação).\n",
    "- Desenvolvimento e execução rápida.\n",
    "- Fácil comunicação com colaboradores, estudantes, clientes (o código deve ser tão fácil de ler quanto a um livro).\n",
    "- Replicável e Reproduzível (ah que bom seria!).\n",
    "\n",
    "## Python\n",
    "\n",
    "\n",
    "- Linguagem de propósito geral: web, aplicativos desktop,  embedded, OS, científica, ... \n",
    "- Alto nível, orientada a objetos e interpretada.\n",
    "- Clara e simples: fácil de aprender, programar e ler.\n",
    "- Linguagem expressiva: menos linhas de código, menos erros, mais fácil de manter.\n",
    "- Muitas bibliotecas para computação científica.\n",
    "- [Popular](http://pypl.github.io/PYPL.html) e possui comunidade ativa.\n",
    "- Cross-plataform: Windows, Mac OS X, Linux/Unix, BSD, ...\n",
    "- Free e open-source.\n",
    "\n",
    "---    \n",
    "\n",
    "## Overview\n",
    "\n",
    "- [Anaconda](https://www.continuum.io/downloads), [Spyder](https://pythonhosted.org/spyder/) e [Jupyter Notebook](https://jupyter.org/) \n",
    "- [Python](https://docs.python.org/3/)\n",
    "- [Numpy](http://www.numpy.org/)\n",
    "- [Matplotlib](http://matplotlib.org/)\n",
    "- [Scipy](http://www.scipy.org/)\n",
    "- [Scikit-image]()"
   ]
  }
 ],
 "metadata": {
  "kernelspec": {
   "display_name": "Python 2",
   "language": "python",
   "name": "python2"
  },
  "language_info": {
   "codemirror_mode": {
    "name": "ipython",
    "version": 2
   },
   "file_extension": ".py",
   "mimetype": "text/x-python",
   "name": "python",
   "nbconvert_exporter": "python",
   "pygments_lexer": "ipython2",
   "version": "2.7.10"
  }
 },
 "nbformat": 4,
 "nbformat_minor": 0
}
